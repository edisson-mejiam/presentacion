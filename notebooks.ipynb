{
 "cells": [
  {
   "cell_type": "markdown",
   "metadata": {},
   "source": [
    "# Experiencia Laboral\n",
    "- Operador Técnico para el Consejo Nacional Electoral, del 25 de enero de 2014 al 24 de  febrero de 2014. \n",
    "- Desarrollador de proyectos de software: Recursos Forestales, Agroforestal, del 1 mayo de  2019 al 2 de agosto de 2019. \n",
    "- Jefe de sistemas en la compañia Seguridad Mundi track, del 1 febrero del 2021 al 31 de Marzo del 2021.\n",
    "\n",
    "\n"
   ]
  }
 ],
 "metadata": {
  "kernelspec": {
   "display_name": "Python 3",
   "language": "python",
   "name": "python3"
  },
  "language_info": {
   "codemirror_mode": {
    "name": "ipython",
    "version": 3
   },
   "file_extension": ".py",
   "mimetype": "text/x-python",
   "name": "python",
   "nbconvert_exporter": "python",
   "pygments_lexer": "ipython3",
   "version": "3.8.5"
  },
  "widgets": {
   "application/vnd.jupyter.widget-state+json": {
    "state": {},
    "version_major": 2,
    "version_minor": 0
   }
  }
 },
 "nbformat": 4,
 "nbformat_minor": 4
}